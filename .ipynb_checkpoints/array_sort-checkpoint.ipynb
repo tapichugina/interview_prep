{
 "cells": [
  {
   "cell_type": "code",
   "execution_count": 2,
   "id": "56524bf0-b008-4c91-a903-6b57e4451134",
   "metadata": {},
   "outputs": [],
   "source": [
    "import math\n",
    "import random\n",
    "import sys"
   ]
  },
  {
   "cell_type": "markdown",
   "id": "ef6a1f41-85e4-4d7e-9bea-2a5fdb473bb0",
   "metadata": {},
   "source": [
    "### Selection sort\n",
    "https://www.youtube.com/watch?v=GUDLRan2DWM&list=PL2_aWCzGMAwKedT2KfDMB9YA5DgASZb3U&index=2&ab_channel=mycodeschool <br>\n",
    "time complexity O(n^2) <br>\n",
    "space complexity O(1)  <br>\n",
    "\n",
    "Pseudocode from here https://dev.to/rinsama77/data-structure-sorting-basic-1pkn\n",
    "1. Repeat i) to ii) for (n-1) rounds\n",
    "    i) Go through every unsorted element\n",
    "    ii) Pick the smallest one and swap with element at the first position (but next to those already been sorted)\n",
    "2. Done "
   ]
  },
  {
   "cell_type": "code",
   "execution_count": 3,
   "id": "34be030d-8d47-4d5f-8e3a-a31c05e92acc",
   "metadata": {},
   "outputs": [],
   "source": [
    "def selection_sort(arr):\n",
    "    for i in range(len(arr)):\n",
    "        min_ind=i\n",
    "        for k in range(i,len(arr)):\n",
    "            if arr[k]<arr[min_ind]:\n",
    "                min_ind=k\n",
    "        # replace i\n",
    "        temp=arr[i]\n",
    "        arr[i]=arr[min_ind]\n",
    "        arr[min_ind]=temp\n",
    "    return arr\n",
    "        "
   ]
  },
  {
   "cell_type": "code",
   "execution_count": 4,
   "id": "eb5a1270-39cd-464f-bf84-b9e2d97a2423",
   "metadata": {},
   "outputs": [
    {
     "data": {
      "text/plain": [
       "[1, 2, 4, 6, 8]"
      ]
     },
     "execution_count": 4,
     "metadata": {},
     "output_type": "execute_result"
    }
   ],
   "source": [
    "test=[6,4,8,1,2]\n",
    "selection_sort(test)"
   ]
  },
  {
   "cell_type": "markdown",
   "id": "4f180edf-79e9-4386-b470-0f8913c130b6",
   "metadata": {},
   "source": [
    "### Insertion sort\n",
    "time complexity O(n^2)\n",
    "space complexity O(1)\n",
    "\n",
    "Pseudocode from here https://dev.to/rinsama77/data-structure-sorting-basic-1pkn\n",
    "1. Repeat i) and ii) for (n-1) rounds\n",
    "    i) insert the first unsorted element, to the sorted\n",
    "    ii) compare the newly inserted element to all the sorted, and put it in place\n",
    "2. Done"
   ]
  },
  {
   "cell_type": "code",
   "execution_count": 9,
   "id": "b9f4b0a5-80d5-4f79-b042-8fd976b3e3b7",
   "metadata": {},
   "outputs": [],
   "source": [
    "# space complexity O(n^2)\n",
    "\n",
    "def insertion_sort(arr):\n",
    "    \n",
    "    for i in range(1,len(arr)):\n",
    "        key=arr[i]\n",
    "        j=i-1\n",
    "        while j>=0 and arr[j]>key:\n",
    "                arr[j+1]=arr[j]\n",
    "                j-=1\n",
    "        arr[j+1]=key       \n",
    "    print(arr)\n",
    "    return arr"
   ]
  },
  {
   "cell_type": "code",
   "execution_count": 10,
   "id": "089ffcc4-2591-409d-88f9-96c365f0c022",
   "metadata": {},
   "outputs": [
    {
     "name": "stdout",
     "output_type": "stream",
     "text": [
      "[0, 0, 10, 2]\n",
      "[0, 0, 2, 10]\n"
     ]
    },
    {
     "data": {
      "text/plain": [
       "[0, 0, 2, 10]"
      ]
     },
     "execution_count": 10,
     "metadata": {},
     "output_type": "execute_result"
    }
   ],
   "source": [
    "test=[6,4,8,1,2]\n",
    "insertion_sort(test)"
   ]
  },
  {
   "cell_type": "markdown",
   "id": "1dd577f2-66b5-46b4-bf9c-ea0305ec965f",
   "metadata": {},
   "source": [
    "### Bubble sort\n",
    "description https://www.youtube.com/watch?v=Jdtq5uKz-w4&ab_channel=mycodeschool <br>\n",
    "time complexity O(n^2) <br>\n",
    "space complexity O(1) <br>\n",
    "\n",
    "pseudocode from here https://dev.to/rinsama77/data-structure-sorting-basic-1pkn\n",
    "1. Repeat i) to ii) for n times\n",
    "    i) Compare the leftmost element in array with the next element\n",
    "        a. If the leftmost element is bigger, swap them\n",
    "        b. Else, go to 2.\n",
    "    ii) Move to next position, set that element to be the leftmost element. Is there next element?\n",
    "        a. Yes, go back to i)\n",
    "        b. No, go back to 1.\n",
    "2. Done"
   ]
  },
  {
   "cell_type": "code",
   "execution_count": 7,
   "id": "450e8cb2-a1e0-4f94-8057-4fa0eb92a675",
   "metadata": {},
   "outputs": [],
   "source": [
    "def bubble_sort(arr):\n",
    "    for i in range(len(arr)-1):\n",
    "        flag=0 \n",
    "        for j in range(len(arr)-i-1): # acconted that the last element already sorted\n",
    "            if arr[j]>arr[j+1]:\n",
    "                temp=arr[j]\n",
    "                arr[j]=arr[j+1]\n",
    "                arr[j+1]=temp\n",
    "                flag=1\n",
    "        if flag==0:\n",
    "            return arr # if array is already sorted stop\n",
    "    \n",
    "    return arr"
   ]
  },
  {
   "cell_type": "code",
   "execution_count": 8,
   "id": "543e90b6-5c2c-48bb-beda-d2e246271489",
   "metadata": {},
   "outputs": [
    {
     "data": {
      "text/plain": [
       "[1, 2, 4, 6, 8]"
      ]
     },
     "execution_count": 8,
     "metadata": {},
     "output_type": "execute_result"
    }
   ],
   "source": [
    "test=[6,4,8,1,2]\n",
    "bubble_sort(test)"
   ]
  },
  {
   "cell_type": "markdown",
   "id": "3e06a54b-d327-4b6d-8125-d8043278c721",
   "metadata": {},
   "source": [
    "### Merge sort\n",
    "Time complexity O(n Log n)\n",
    "Space complexity O(n)"
   ]
  },
  {
   "cell_type": "code",
   "execution_count": 14,
   "id": "11f04f10-9a2d-4bc3-a154-3e8f57f8e2c7",
   "metadata": {},
   "outputs": [],
   "source": [
    "def merge_sort(arr):\n",
    "    n=len(arr)\n",
    "    if n<2: return arr\n",
    "    else:\n",
    "        mid=n//2\n",
    "        left_arr=arr[:mid]\n",
    "        right_arr=arr[mid:]\n",
    "    \n",
    "    merge_sort(left_arr)\n",
    "    merge_sort(right_arr)\n",
    "    merge(left_arr,right_arr,arr)\n",
    "        \n",
    "    return arr"
   ]
  },
  {
   "cell_type": "code",
   "execution_count": 17,
   "id": "0d7f693e-461f-4513-9a97-1b732943e9a7",
   "metadata": {},
   "outputs": [],
   "source": [
    "def merge(Left,Right,arr):\n",
    "    left_ind=0\n",
    "    right_ind=0\n",
    "    ind=0\n",
    "    \n",
    "    while(left_ind<len(Left) and right_ind<len(Right)):\n",
    "        if Left[left_ind]<=Right[right_ind]:\n",
    "            arr[ind]=Left[left_ind]\n",
    "            left_ind=left_ind+1\n",
    "        else:\n",
    "            arr[ind]=Right[right_ind]\n",
    "            right_ind=right_ind+1\n",
    "        ind=ind+1\n",
    "    # if some parts left after previous joint\n",
    "    while(left_ind<len(Left)):\n",
    "        arr[ind]=Left[left_ind]\n",
    "        ind=ind+1\n",
    "        left_ind=left_ind+1\n",
    "          \n",
    "    while(right_ind<len(Right)):\n",
    "        arr[ind]=Right[right_ind]\n",
    "        ind=ind+1\n",
    "        right_ind=right_ind+1\n",
    "\n",
    "    return arr        \n",
    "    "
   ]
  },
  {
   "cell_type": "code",
   "execution_count": 18,
   "id": "7e8fb843-5673-4804-bf60-04690e229069",
   "metadata": {},
   "outputs": [
    {
     "data": {
      "text/plain": [
       "[4, 7, 9]"
      ]
     },
     "execution_count": 18,
     "metadata": {},
     "output_type": "execute_result"
    }
   ],
   "source": [
    "a=[7,9,4]\n",
    "b=[1,4,4,9]\n",
    "c=[1,1,1,1,1,1,1]\n",
    "\n",
    "merge_sort(a)"
   ]
  },
  {
   "cell_type": "markdown",
   "id": "56285565-498f-436b-8e17-ceebca2b97db",
   "metadata": {},
   "source": [
    "### Quick sort\n",
    "https://www.youtube.com/watch?v=COk73cpQbFQ&list=PL2_aWCzGMAwKedT2KfDMB9YA5DgASZb3U&index=7&ab_channel=mycodeschool\n",
    "Time complexity O(n log n)"
   ]
  },
  {
   "cell_type": "code",
   "execution_count": 3,
   "id": "ad367a15-cdc2-4b67-9d37-00fb7e6fb7e3",
   "metadata": {},
   "outputs": [],
   "source": [
    "def quick_sort(arr,start,end):\n",
    "    if start<end:\n",
    "        p_index=partition(arr,start,end)\n",
    "        quick_sort(arr,start,p_index-1)\n",
    "        quick_sort(arr,p_index+1,end)\n",
    "    return arr"
   ]
  },
  {
   "cell_type": "code",
   "execution_count": 96,
   "id": "2b258d37-b719-45f2-8ee7-169cfd85a52b",
   "metadata": {},
   "outputs": [],
   "source": [
    "def partition(arr,start,end):\n",
    "    pivot=arr[end]\n",
    "    p_index=start\n",
    "\n",
    "    for i in range(start,end):\n",
    "        if arr[i]<=pivot:\n",
    "            swap(arr,i,p_index)\n",
    "            p_index=p_index+1\n",
    "    \n",
    "    # swap with pivot\n",
    "    swap(arr,p_index,end)\n",
    "    return p_index\n",
    "\n",
    "\n",
    "def swap(arr,ind_1,ind_2):\n",
    "    temp=arr[ind_1]\n",
    "    arr[ind_1]=arr[ind_2]\n",
    "    arr[ind_2]=temp"
   ]
  },
  {
   "cell_type": "code",
   "execution_count": 97,
   "id": "3647f838-e6b1-4d03-a83f-89128cbb3eb5",
   "metadata": {},
   "outputs": [
    {
     "data": {
      "text/plain": [
       "[1, 4, 4, 9]"
      ]
     },
     "execution_count": 97,
     "metadata": {},
     "output_type": "execute_result"
    }
   ],
   "source": [
    "a=[7,9,4]\n",
    "b=[1,4,4,9]\n",
    "c=[1,1,1,1,1,1,1]\n",
    "\n",
    "merge_sort(a)"
   ]
  },
  {
   "cell_type": "code",
   "execution_count": null,
   "id": "87bf84bb-2c9c-4b30-b980-181d2a4a096d",
   "metadata": {},
   "outputs": [],
   "source": []
  }
 ],
 "metadata": {
  "kernelspec": {
   "display_name": "Python 3 (ipykernel)",
   "language": "python",
   "name": "python3"
  },
  "language_info": {
   "codemirror_mode": {
    "name": "ipython",
    "version": 3
   },
   "file_extension": ".py",
   "mimetype": "text/x-python",
   "name": "python",
   "nbconvert_exporter": "python",
   "pygments_lexer": "ipython3",
   "version": "3.9.13"
  }
 },
 "nbformat": 4,
 "nbformat_minor": 5
}
