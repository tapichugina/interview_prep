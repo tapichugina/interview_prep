{
 "cells": [
  {
   "cell_type": "markdown",
   "id": "04666baa-e991-4344-829d-72c32bdc9e86",
   "metadata": {},
   "source": [
    "# Hypothesis testing\n"
   ]
  },
  {
   "cell_type": "code",
   "execution_count": 9,
   "id": "33c1f093-e78b-4b42-8da2-a91f4f633aa8",
   "metadata": {},
   "outputs": [],
   "source": [
    "import numpy as np\n",
    "import pandas as pd"
   ]
  },
  {
   "cell_type": "markdown",
   "id": "cae99881-8884-4136-9f79-933837727850",
   "metadata": {},
   "source": [
    "## Chi-squared test\n",
    "Here is a short summary from [link](https://stattrek.com/chi-square-test/independence?tutorial=ap) <br>\n",
    "\n",
    "The test is applied when you have two categorical variables from a single population. It is used to determine whether there is a significant association between the two variables.\n",
    "For example, in an election survey, voters might be classified by gender (male or female) and voting preference (Democrat, Republican, or Independent). We could use a chi-square test for independence to determine whether gender is related to voting preference.<br>\n",
    "\n",
    "<b>Assumptions</b>:\n",
    "* The sampling method is simple random sampling.\n",
    "* The variables under study are each categorical.\n",
    "* If sample data are displayed in a contingency table, the expected frequency count for each cell of the table is at least 5.\n",
    "\n",
    "\n",
    "\n",
    "<b> How to perform Chi-squared test</b> [link](https://www.jmp.com/en_be/statistics-knowledge-portal/chi-square-test.html)\n",
    "1. State Hypothesis. <br>\n",
    "    Ho: Variable A and Variable B are independent.<br>\n",
    "    Ha: Variable A and Variable B are not independent.<br>\n",
    "2. Significance level\n",
    "3. Analyse sample data.\n",
    "    * Check the assumptions for the test.\n",
    "    * calculate degree of fredom $DF=(r-1)*(c-1)$. Where r and c number of levels for categorical variable.\n",
    "4. Perform the test.\n",
    "    * calculate expected frequency\n",
    "    * test statistics\n",
    "    * p-value\n",
    "5. Interpret results\n",
    "\n",
    "<b> Test statistics </b><br>\n",
    "$\\chi^2=\\sum\\frac{(O_{i}-E_{i})^2}{E_{i}}$ ;\n",
    "Where $O_{i}$ is an observed value and  $E_{i}$ is an expected value"
   ]
  },
  {
   "cell_type": "code",
   "execution_count": 10,
   "id": "a0302d63-93e8-4b1c-8778-ea505f24fa08",
   "metadata": {},
   "outputs": [],
   "source": [
    "# calculate p_value from the $\\chi^2$\n",
    "from scipy.stats import chi2\n",
    "Chi2=16.2\n",
    "p_value=1 - chi2.cdf(16.2,2)"
   ]
  },
  {
   "cell_type": "code",
   "execution_count": 11,
   "id": "abba080a-1835-4844-a89a-460ecbdbdeaa",
   "metadata": {},
   "outputs": [],
   "source": [
    "from scipy.stats import chi2_contingency\n",
    "#chi2, p, dof, ex = chi2_contingency(obs, correction=False)\n"
   ]
  },
  {
   "cell_type": "markdown",
   "id": "0279c8b1-bdcd-4c80-81d3-ac0ad78ce431",
   "metadata": {},
   "source": [
    "### Chi-squere independence test\n",
    "\n",
    "H0: Living arragement and Exercise is independent\n",
    "H1: Living arragement and Exercise is not independent"
   ]
  },
  {
   "cell_type": "code",
   "execution_count": 12,
   "id": "5da143f3-6c7a-43b5-8922-11c2521e9118",
   "metadata": {},
   "outputs": [
    {
     "name": "stdout",
     "output_type": "stream",
     "text": [
      "60.43944691358026 3.6644965577536217e-11 6\n"
     ]
    }
   ],
   "source": [
    "#No Regular Exercise\n",
    "#Sporadic Exercise\n",
    "#Regular Exercise\n",
    "\n",
    "Dormitory=[32,30,28]\n",
    "On_Campus=[74,64,42]\n",
    "Off_Cumpus=[110,25,15]\n",
    "At_Home=[39,6,5]\n",
    "\n",
    "Survey=[Dormitory,On_Campus,Off_Cumpus,At_Home]\n",
    "Survey_array=np.array(Survey)\n",
    "Survey_array\n",
    "\n",
    "from scipy.stats import chi2_contingency\n",
    "chi2, p, dof, ex = chi2_contingency(Survey_array, correction=False)\n",
    "print(chi2,p,dof)\n",
    "\n",
    "# conclusion\n",
    "# Living arragement and excersice are not independent"
   ]
  },
  {
   "cell_type": "markdown",
   "id": "9d77b1d9-58e3-46fe-bb22-69971066fee2",
   "metadata": {},
   "source": [
    "### Chi-square goodness of fit\n",
    "https://www.jmp.com/en_be/statistics-knowledge-portal/chi-square-test/chi-square-goodness-of-fit-test.html"
   ]
  },
  {
   "cell_type": "markdown",
   "id": "e96975f5-7c46-418d-b6d9-cc307ffbccf4",
   "metadata": {},
   "source": [
    "A genetics engineer was attempting to cross a tiger and a cheetah.  She predicted a phenotypic outcome of the traits she was observing to be in the following ratio 4 stripes only: 3 spots only: 9 both stripes and spots.  When the cross was performed and she counted the individuals she found 50 with stripes only, 41 with spots only and 85 with both.  According to the Chi-square test, did she get the predicted outcome\n",
    "\n",
    "H0: observed==expected\n",
    "H1: observed!=expected\n",
    "significance level p=0.05\n",
    "\n",
    "p_value=0.09>0.05 so we could not reject H0"
   ]
  },
  {
   "cell_type": "code",
   "execution_count": 13,
   "id": "a188f6fd-ea37-4995-97c5-ea06f985f707",
   "metadata": {},
   "outputs": [
    {
     "data": {
      "text/plain": [
       "Power_divergenceResult(statistic=4.737373737373738, pvalue=0.09360355937725263)"
      ]
     },
     "execution_count": 13,
     "metadata": {},
     "output_type": "execute_result"
    }
   ],
   "source": [
    "Experiment=[50,41,85]\n",
    "N_animals=sum(Experiment)\n",
    "\n",
    "Expected_ratio=[4,3,9]\n",
    "Percent=np.array(Expected_ratio)/sum(Expected_ratio)\n",
    "Expected=N_animals*Percent\n",
    "\n",
    "from scipy.stats import chisquare\n",
    "chisquare(Experiment,Expected)"
   ]
  },
  {
   "cell_type": "markdown",
   "id": "84327929-0dec-4717-b7d4-796b81ea5e0d",
   "metadata": {},
   "source": [
    "## Fisher exact test\n",
    "https://towardsdatascience.com/fishers-exact-fb49432e55b5\n",
    "\n",
    "Fisher exact test is used to determine whether or not there is a significant association between two categorical variables. It is typically used when one or more of the cell counts in a 2×2 table is less than 5.[link](https://www.statology.org/fishers-exact-test/) \n",
    "\n",
    "Fisher's exact test of independence is used if you want to see whether the proportions of one categorical variable are different depending on the value of the other variable. Use it when the sample size is small.[link](https://stats.libretexts.org/Bookshelves/Applied_Statistics/Book%3A_Biological_Statistics_(McDonald)/02%3A_Tests_for_Nominal_Variables/2.07%3A_Fisher's_Exact_Test)\n",
    "\n",
    "H0:Two variables are independent <br>\n",
    "HA: Two variables are not independent\n",
    "\n",
    "\n",
    "### Assumptions\n",
    "* individual observations are independent.\n",
    "*  Fisher's exact test assumes that the row and column totals are fixed\n"
   ]
  },
  {
   "cell_type": "markdown",
   "id": "7b593577-0b34-4eb6-9708-c1571d86ea53",
   "metadata": {},
   "source": [
    "## Example\n",
    "\n",
    "29 patients split into two groups (16,13). One group received drug_1, the other group received drug_2. For drug_1 group 13 out of 16 were cured (81%), for drug_2 group 4 out of 13 were cured (31%)\n",
    "\n",
    "H0: The probability of getting cured are the same and does not depend on the drug. In other words, the proportion of one variable does not depend on the other.\n",
    "\n",
    "HA: Otherwise.\n",
    "\n",
    "numpy.stats [link](https://docs.scipy.org/doc/scipy/reference/generated/scipy.stats.fisher_exact.html)"
   ]
  },
  {
   "cell_type": "code",
   "execution_count": 17,
   "id": "e02bc16f-f96e-4ab9-9190-57e9a491667e",
   "metadata": {},
   "outputs": [
    {
     "data": {
      "text/html": [
       "<div>\n",
       "<style scoped>\n",
       "    .dataframe tbody tr th:only-of-type {\n",
       "        vertical-align: middle;\n",
       "    }\n",
       "\n",
       "    .dataframe tbody tr th {\n",
       "        vertical-align: top;\n",
       "    }\n",
       "\n",
       "    .dataframe thead th {\n",
       "        text-align: right;\n",
       "    }\n",
       "</style>\n",
       "<table border=\"1\" class=\"dataframe\">\n",
       "  <thead>\n",
       "    <tr style=\"text-align: right;\">\n",
       "      <th></th>\n",
       "      <th>animal</th>\n",
       "      <th>drug_1</th>\n",
       "      <th>drug_2</th>\n",
       "    </tr>\n",
       "  </thead>\n",
       "  <tbody>\n",
       "    <tr>\n",
       "      <th>0</th>\n",
       "      <td>cured</td>\n",
       "      <td>13</td>\n",
       "      <td>4</td>\n",
       "    </tr>\n",
       "    <tr>\n",
       "      <th>1</th>\n",
       "      <td>not_cured</td>\n",
       "      <td>3</td>\n",
       "      <td>9</td>\n",
       "    </tr>\n",
       "  </tbody>\n",
       "</table>\n",
       "</div>"
      ],
      "text/plain": [
       "      animal  drug_1  drug_2\n",
       "0      cured      13       4\n",
       "1  not_cured       3       9"
      ]
     },
     "execution_count": 17,
     "metadata": {},
     "output_type": "execute_result"
    }
   ],
   "source": [
    "table=pd.DataFrame({\"animal\":[\"cured\",\"not_cured\"],\"drug_1\":[13,3],\"drug_2\":[4,9]})\n",
    "table"
   ]
  },
  {
   "cell_type": "code",
   "execution_count": 20,
   "id": "1436622f-4651-4bf4-8542-3a2e68e092ba",
   "metadata": {},
   "outputs": [
    {
     "name": "stdout",
     "output_type": "stream",
     "text": [
      "29\n"
     ]
    }
   ],
   "source": [
    "table=np.array([[13,3],[4,9]])\n",
    "table\n",
    "total=np.sum(table)\n",
    "print(total)"
   ]
  },
  {
   "cell_type": "code",
   "execution_count": 27,
   "id": "66ab6bec-8164-47a9-970f-dd08e9f802cc",
   "metadata": {},
   "outputs": [
    {
     "name": "stdout",
     "output_type": "stream",
     "text": [
      "0.007715440525351361\n"
     ]
    }
   ],
   "source": [
    "from scipy.stats import hypergeom\n",
    "\n",
    "rv = hypergeom.pmf(3,total,16,12)\n",
    "print(rv)"
   ]
  },
  {
   "cell_type": "code",
   "execution_count": 32,
   "id": "23ae4595-e1ec-433b-a6e7-f04ec98c563c",
   "metadata": {},
   "outputs": [
    {
     "name": "stdout",
     "output_type": "stream",
     "text": [
      "p_value=0.009530322558019238\n"
     ]
    }
   ],
   "source": [
    "prob=np.array([hypergeom.pmf(i,total,16,12) for i in range(0,17)]) \n",
    "p_value=np.sum(prob[prob<=rv])\n",
    "print('p_value={}'.format(p_value))"
   ]
  },
  {
   "cell_type": "code",
   "execution_count": 33,
   "id": "efbc3ca9-ecf5-4dea-a06a-8274d1397968",
   "metadata": {},
   "outputs": [
    {
     "data": {
      "text/plain": [
       "array([2.50501316e-07, 2.40481263e-05, 6.61323474e-04, 7.71544053e-03,\n",
       "       4.51353271e-02, 1.44433047e-01, 2.64793919e-01, 2.83707770e-01,\n",
       "       1.77317356e-01, 6.30461712e-02, 1.20360872e-02, 1.09418975e-03,\n",
       "       3.50701842e-05, 0.00000000e+00, 0.00000000e+00, 0.00000000e+00,\n",
       "       0.00000000e+00])"
      ]
     },
     "execution_count": 33,
     "metadata": {},
     "output_type": "execute_result"
    }
   ],
   "source": [
    "prob"
   ]
  },
  {
   "cell_type": "code",
   "execution_count": 34,
   "id": "9904b4a5-3b94-479c-8a69-2c2402f29c13",
   "metadata": {},
   "outputs": [
    {
     "data": {
      "text/plain": [
       "0.009530322558019238"
      ]
     },
     "execution_count": 34,
     "metadata": {},
     "output_type": "execute_result"
    }
   ],
   "source": [
    "from scipy.stats import fisher_exact\n",
    "oddsr, p = fisher_exact(table, alternative='two-sided')\n",
    "p"
   ]
  },
  {
   "cell_type": "markdown",
   "id": "1d53f467-f24f-4e7f-8fb2-fbc43c366b11",
   "metadata": {},
   "source": [
    "The eastern chipmunk trills when pursued by a predator, possibly to warn other chipmunks. Burke da Silva et al. (2002) released chipmunks either  10  or  100  meters from their home burrow, then chased them (to simulate predator pursuit). Out of  24  female chipmunks released  10m  from their burrow,  16  trilled and  8  did not trill. When released 100 m from their burrow, only 3 female chipmunks trilled, while 18 did not trill. The two nominal variables are thus distance from the home burrow (because there are only two values, distance is a nominal variable in this experiment) and trill vs. no trill. Applying Fisher's exact test, the proportion of chipmunks trilling is significantly higher ( P=0.0007 ) when they are closer to their burrow.\n",
    "\n",
    "H0: weather chipmunk trills does not depend on the distanct to the home burrow. \n",
    "HA: otherwise"
   ]
  },
  {
   "cell_type": "code",
   "execution_count": 36,
   "id": "f8210a02-a9a5-4543-baf0-3abe062f8cbc",
   "metadata": {},
   "outputs": [
    {
     "data": {
      "text/plain": [
       "0.0006862011459039608"
      ]
     },
     "execution_count": 36,
     "metadata": {},
     "output_type": "execute_result"
    }
   ],
   "source": [
    "table=np.array([[16,8],[3,18]])\n",
    "oddsr, p = fisher_exact(table, alternative='two-sided')\n",
    "p"
   ]
  },
  {
   "cell_type": "markdown",
   "id": "661ce13a-d3a0-42f2-8a8c-b1921e6bdbc4",
   "metadata": {},
   "source": [
    "Applying Fisher's exact test, the proportion of chipmunks trilling is significantly higher ( P=0.0007 ) when they are closer to their burrow"
   ]
  },
  {
   "cell_type": "code",
   "execution_count": null,
   "id": "42b86044-8e6a-4e3e-abbc-c167b1b57e14",
   "metadata": {},
   "outputs": [],
   "source": []
  }
 ],
 "metadata": {
  "kernelspec": {
   "display_name": "Python 3 (ipykernel)",
   "language": "python",
   "name": "python3"
  },
  "language_info": {
   "codemirror_mode": {
    "name": "ipython",
    "version": 3
   },
   "file_extension": ".py",
   "mimetype": "text/x-python",
   "name": "python",
   "nbconvert_exporter": "python",
   "pygments_lexer": "ipython3",
   "version": "3.9.13"
  }
 },
 "nbformat": 4,
 "nbformat_minor": 5
}
