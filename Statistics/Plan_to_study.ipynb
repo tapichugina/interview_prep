{
 "cells": [
  {
   "cell_type": "markdown",
   "id": "3ee324f4-9c25-47ad-b15c-d1fc58e3de8b",
   "metadata": {},
   "source": [
    "# Plan to study\n",
    "## Probability\n",
    "    - Rules of probabilities\n",
    "    - Random variables, expectation, conditional probability, Bayes rule\n",
    "    - Probability distributions (binomial, geometric,poisson, gaussian) \n",
    "## Hypothesis Testing\n",
    "    - Law of the large numbers\n",
    "    - Central limit theorem\n",
    "    - Z-test (mean, population proportion)\n",
    "    - t-test\n",
    "    - Chi-squared\n",
    "    - p-values and confidence interval\n",
    "    - Type I and Type II error\n",
    "    - Maximum likelihood and Maximum posterious likelihood \n",
    "## Regression\n",
    "    - Linear and Multiple regression\n",
    "    - Assumption\n",
    "    \n",
    "## Sampling techniques\n",
    "    - random\n",
    "    - stratified\n",
    "    - cluster\n",
    "    - bootstrapping\n",
    "    "
   ]
  },
  {
   "cell_type": "code",
   "execution_count": null,
   "id": "1e8d3d4d-9c76-420d-b707-f2968b1d5412",
   "metadata": {},
   "outputs": [],
   "source": []
  }
 ],
 "metadata": {
  "kernelspec": {
   "display_name": "Python 3 (ipykernel)",
   "language": "python",
   "name": "python3"
  },
  "language_info": {
   "codemirror_mode": {
    "name": "ipython",
    "version": 3
   },
   "file_extension": ".py",
   "mimetype": "text/x-python",
   "name": "python",
   "nbconvert_exporter": "python",
   "pygments_lexer": "ipython3",
   "version": "3.9.13"
  }
 },
 "nbformat": 4,
 "nbformat_minor": 5
}
