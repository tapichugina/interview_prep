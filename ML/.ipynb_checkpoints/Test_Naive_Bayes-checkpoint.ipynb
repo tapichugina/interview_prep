{
 "cells": [
  {
   "cell_type": "markdown",
   "id": "abf341e3-e328-4450-a79b-dd369af72fda",
   "metadata": {},
   "source": [
    "# Ground calculation Naive Bayes on Titanic dataset\n",
    "\n",
    "Assumptions\n",
    "* Bayes classifier assumes that the presence of a particular feature in a class is unrelated to the presence of any other feature."
   ]
  },
  {
   "cell_type": "code",
   "execution_count": 1,
   "id": "45e98bc4-b50c-40d3-a707-c1963363a800",
   "metadata": {},
   "outputs": [],
   "source": [
    "import numpy as np\n",
    "import pandas as pd\n",
    "import matplotlib.pyplot as plt\n",
    "import seaborn as sns\n",
    "\n",
    "Data=pd.read_csv(\"./titanic_dataset/train.csv\")\n",
    "\n",
    "\n",
    "data1=Data.drop(columns=[\"Name\",\"Ticket\",\"Cabin\",\"Embarked\",\"PassengerId\"])\n",
    "\n",
    "# Check missing values\n",
    "data2=data1.dropna()\n",
    "\n",
    "# Remap categorical values to number\n",
    "remap_sex = {\"Sex\":{\"male\": 0, \"female\": 1}}\n",
    "data3=data2.replace(remap_sex)\n",
    "\n",
    "# shaffle data\n",
    "data4=data3.sample(frac=1)\n",
    "\n",
    "# split data to the train and test set\n",
    "train=data4[:600]\n",
    "test=data4[600:]"
   ]
  },
  {
   "cell_type": "code",
   "execution_count": 2,
   "id": "277f1709-44c5-4d91-a1b4-3367adf5463f",
   "metadata": {},
   "outputs": [
    {
     "data": {
      "text/html": [
       "<div>\n",
       "<style scoped>\n",
       "    .dataframe tbody tr th:only-of-type {\n",
       "        vertical-align: middle;\n",
       "    }\n",
       "\n",
       "    .dataframe tbody tr th {\n",
       "        vertical-align: top;\n",
       "    }\n",
       "\n",
       "    .dataframe thead th {\n",
       "        text-align: right;\n",
       "    }\n",
       "</style>\n",
       "<table border=\"1\" class=\"dataframe\">\n",
       "  <thead>\n",
       "    <tr style=\"text-align: right;\">\n",
       "      <th></th>\n",
       "      <th>Survived</th>\n",
       "      <th>Pclass</th>\n",
       "      <th>Sex</th>\n",
       "      <th>Age</th>\n",
       "      <th>SibSp</th>\n",
       "      <th>Parch</th>\n",
       "      <th>Fare</th>\n",
       "    </tr>\n",
       "  </thead>\n",
       "  <tbody>\n",
       "    <tr>\n",
       "      <th>22</th>\n",
       "      <td>1</td>\n",
       "      <td>3</td>\n",
       "      <td>1</td>\n",
       "      <td>15.0</td>\n",
       "      <td>0</td>\n",
       "      <td>0</td>\n",
       "      <td>8.0292</td>\n",
       "    </tr>\n",
       "    <tr>\n",
       "      <th>357</th>\n",
       "      <td>0</td>\n",
       "      <td>2</td>\n",
       "      <td>1</td>\n",
       "      <td>38.0</td>\n",
       "      <td>0</td>\n",
       "      <td>0</td>\n",
       "      <td>13.0000</td>\n",
       "    </tr>\n",
       "  </tbody>\n",
       "</table>\n",
       "</div>"
      ],
      "text/plain": [
       "     Survived  Pclass  Sex   Age  SibSp  Parch     Fare\n",
       "22          1       3    1  15.0      0      0   8.0292\n",
       "357         0       2    1  38.0      0      0  13.0000"
      ]
     },
     "execution_count": 2,
     "metadata": {},
     "output_type": "execute_result"
    }
   ],
   "source": [
    "data4.head(2)"
   ]
  },
  {
   "cell_type": "markdown",
   "id": "25239dbf-de62-443b-a1eb-1a689a9ccbc6",
   "metadata": {
    "tags": []
   },
   "source": [
    "# Naive Bayes: One feature\n",
    "\n",
    "$$ P(survived|sex)=\\frac{P(sex|survived)*P(survived)}{P(sex)}$$"
   ]
  },
  {
   "cell_type": "code",
   "execution_count": 3,
   "id": "155ae24b-0fa6-42ad-8f31-2df25e6e48f3",
   "metadata": {},
   "outputs": [
    {
     "name": "stdout",
     "output_type": "stream",
     "text": [
      "#########################\n",
      "P(sex|survived) \n",
      "    Survived  Sex      Prob\n",
      "0         0    0  0.845070\n",
      "1         0    1  0.154930\n",
      "2         1    0  0.326531\n",
      "3         1    1  0.673469\n",
      "#########################\n",
      " P(survived) \n",
      "    Survived      Prob\n",
      "0         0  0.591667\n",
      "1         1  0.408333\n",
      "#########################\n",
      " P(sex) \n",
      "    Sex      Prob\n",
      "0    0  0.633333\n",
      "1    1  0.366667\n",
      "#########################\n",
      "   Sex  Survived      Prob\n",
      "0    0         0  0.789474\n",
      "2    0         1  0.210526\n",
      "1    1         0  0.250000\n",
      "3    1         1  0.750000\n"
     ]
    }
   ],
   "source": [
    "## P(sex|survived)\n",
    "Frequency_table_sex_survived=pd.pivot_table(train,values=\"Pclass\",index=[\"Survived\",\"Sex\"],aggfunc='count')\n",
    "Frequency_table_sex_survived=Frequency_table_sex_survived.reset_index()\n",
    "N_NotSurvived=Frequency_table_sex_survived[Frequency_table_sex_survived[\"Survived\"]==0][\"Pclass\"].sum()\n",
    "N_Survived=Frequency_table_sex_survived[Frequency_table_sex_survived[\"Survived\"]==1][\"Pclass\"].sum()\n",
    "\n",
    "\n",
    "Frequency_table_sex_survived.loc[Frequency_table_sex_survived[\"Survived\"]==0,\"Pclass\"]=Frequency_table_sex_survived.loc[Frequency_table_sex_survived[\"Survived\"]==0,\"Pclass\"]/N_NotSurvived\n",
    "Frequency_table_sex_survived.loc[Frequency_table_sex_survived[\"Survived\"]==1,\"Pclass\"]=Frequency_table_sex_survived.loc[Frequency_table_sex_survived[\"Survived\"]==1,\"Pclass\"]/N_Survived\n",
    "Prob_table_sex_survived=Frequency_table_sex_survived.rename(columns={\"Pclass\":\"Prob\"})\n",
    "\n",
    "print(\"#########################\")\n",
    "print(\"P(sex|survived) \\n\",Prob_table_sex_survived)\n",
    "print(\"#########################\")\n",
    "\n",
    "## P(survived)\n",
    "Frequency_table_survived=pd.pivot_table(train,values=\"Pclass\",index=[\"Survived\"],aggfunc='count')\n",
    "Prob_table_survived=Frequency_table_survived/Frequency_table_survived[\"Pclass\"].sum()\n",
    "Prob_table_survived=Prob_table_survived.rename(columns={\"Pclass\":\"Prob\"})\n",
    "Prob_table_survived.reset_index(inplace=True)\n",
    "print(\" P(survived) \\n\",Prob_table_survived)\n",
    "print(\"#########################\")\n",
    "\n",
    "\n",
    "## P(sex)\n",
    "Frequency_table_sex=pd.pivot_table(train,values=\"Pclass\",index=[\"Sex\"],aggfunc='count')\n",
    "Prob_table_sex=Frequency_table_sex/Frequency_table_sex[\"Pclass\"].sum()\n",
    "Prob_table_sex=Prob_table_sex.rename(columns={\"Pclass\":\"Prob\"})\n",
    "Prob_table_sex.reset_index(inplace=True)\n",
    "print(\" P(sex) \\n\",Prob_table_sex)\n",
    "print(\"#########################\")\n",
    "\n",
    "\n",
    "## Byaes rule\n",
    "Prob_table_survived_sex=Prob_table_sex_survived.copy()\n",
    "\n",
    "result=[]\n",
    "for index,row in Prob_table_sex_survived.iterrows():\n",
    "    sex=int(row[\"Sex\"])\n",
    "    survived=int(row[\"Survived\"])\n",
    "    \n",
    "    prob=row[\"Prob\"]*Prob_table_survived[\"Prob\"][survived]/Prob_table_sex[\"Prob\"][sex]\n",
    "    result.append({\"Sex\":sex,\"Survived\":survived,\"Prob\":prob})\n",
    "\n",
    "\n",
    "Results=pd.DataFrame(result)\n",
    "print(Results.sort_values(by=\"Sex\"))\n"
   ]
  },
  {
   "cell_type": "code",
   "execution_count": 4,
   "id": "cdb7192c-fb06-42fb-833e-ba83526b6a87",
   "metadata": {},
   "outputs": [
    {
     "name": "stdout",
     "output_type": "stream",
     "text": [
      "train accuracy=0.775\n",
      "test accuracy=0.8070175438596491\n"
     ]
    }
   ],
   "source": [
    "predict_train=np.zeros(train.shape[0])\n",
    "predict_train[train[\"Sex\"]==1]=1\n",
    "accuracy_train=(train[\"Survived\"]==predict_train).mean()\n",
    "print(\"train accuracy={}\".format(accuracy_train))\n",
    "\n",
    "predict_test=np.zeros(test.shape[0])\n",
    "predict_test[test[\"Sex\"]==1]=1\n",
    "accuracy_test=(test[\"Survived\"]==predict_test).mean()\n",
    "print(\"test accuracy={}\".format(accuracy_test))\n"
   ]
  },
  {
   "cell_type": "markdown",
   "id": "c6948491-7b67-4e67-9b84-9a5c4142793c",
   "metadata": {},
   "source": [
    "### Compare with sklearn result"
   ]
  },
  {
   "cell_type": "code",
   "execution_count": 18,
   "id": "997b079f-8e14-4563-bd66-d05ee4ce029a",
   "metadata": {},
   "outputs": [],
   "source": [
    "X_train=train[\"Sex\"].values.reshape(-1,1)\n",
    "y_train=train[\"Survived\"]\n",
    "\n",
    "X_test=test[\"Sex\"].values.reshape(-1,1)\n",
    "y_test=test[\"Survived\"]"
   ]
  },
  {
   "cell_type": "code",
   "execution_count": 19,
   "id": "bcde0d42-6200-4787-a43f-11c9c28b771b",
   "metadata": {},
   "outputs": [
    {
     "name": "stdout",
     "output_type": "stream",
     "text": [
      "train score=0.775\n",
      "test score=0.8070175438596491\n",
      "[[0.78837754 0.21162246]\n",
      " [0.25272639 0.74727361]]\n",
      "[[0]\n",
      " [1]]\n"
     ]
    }
   ],
   "source": [
    "from sklearn.naive_bayes import BernoulliNB\n",
    "nb=BernoulliNB()\n",
    "nb.fit(X_train, y_train)\n",
    "\n",
    "print(\"train score={}\".format(nb.score(X_train,y_train)))\n",
    "print(\"test score={}\".format(nb.score(X_test,y_test)))\n",
    "\n",
    "print(nb.predict_proba(X_test[:2]))\n",
    "print(X_test[:2])"
   ]
  },
  {
   "cell_type": "code",
   "execution_count": 34,
   "id": "e410560d-ece9-4cc1-a858-793acb97a481",
   "metadata": {},
   "outputs": [
    {
     "name": "stdout",
     "output_type": "stream",
     "text": [
      "[[ 55.]\n",
      " [165.]]\n",
      "[[0.]\n",
      " [0.]]\n",
      "1\n",
      "[0.59166667 0.40833333]\n",
      "train score=0.5916666666666667\n",
      "test score=0.6052631578947368\n",
      "[[0.59166667 0.40833333]\n",
      " [0.59166667 0.40833333]]\n",
      "[[0]\n",
      " [1]]\n"
     ]
    }
   ],
   "source": [
    "from sklearn.naive_bayes import MultinomialNB\n",
    "nbM=MultinomialNB(fit_prior=True)\n",
    "nbM.fit(X_train, y_train)\n",
    "\n",
    "print(nbM.feature_count_)\n",
    "print(nbM.feature_log_prob_)\n",
    "print(nbM.n_features_in_)\n",
    "print(np.exp(nbM.class_log_prior_))\n",
    "\n",
    "print(\"train score={}\".format(nb.score(X_train,y_train)))\n",
    "print(\"test score={}\".format(nb.score(X_test,y_test)))\n",
    "\n",
    "\n",
    "print(nb.predict_proba(X_test[:2]))\n",
    "print(X_test[:2])\n",
    "\n"
   ]
  },
  {
   "cell_type": "code",
   "execution_count": 37,
   "id": "ae9422c1-38ce-4e4e-9851-0eea6f2c9abf",
   "metadata": {},
   "outputs": [
    {
     "data": {
      "text/plain": [
       "0.36666666666666664"
      ]
     },
     "execution_count": 37,
     "metadata": {},
     "output_type": "execute_result"
    }
   ],
   "source": [
    "X_train[X_train==1].sum()/X_train.shape[0]"
   ]
  },
  {
   "cell_type": "markdown",
   "id": "511bcc5a-be59-468e-a5a1-d8af43036f86",
   "metadata": {},
   "source": [
    "# Naive Bayes: Two features\n",
    "Predict survival using two features Sex and Pclass <br>\n",
    "\n",
    "$$ P(survived|sex,Pclass)=\\frac{P(sex|survived)*P(Pclass|survived)*P(survived)}{P(sex)}$$\n",
    "\n",
    "under independt features assumption\n",
    "P(survived/Sex,Pclass)=P(Sex/survived)*P(Pclass/survived)*P(survived)/P(Sex,Pclass) <br>"
   ]
  },
  {
   "cell_type": "code",
   "execution_count": 96,
   "id": "4ecca46e-79e1-4cb4-b247-e5e557161049",
   "metadata": {},
   "outputs": [
    {
     "name": "stdout",
     "output_type": "stream",
     "text": [
      "   Survived  Sex      Prob\n",
      "0         0    0  0.844193\n",
      "1         0    1  0.155807\n",
      "2         1    0  0.311741\n",
      "3         1    1  0.688259\n",
      "   Survived      Prob\n",
      "0         0  0.588333\n",
      "1         1  0.411667\n",
      "   Sex   Prob\n",
      "0    0  0.625\n",
      "1    1  0.375\n"
     ]
    }
   ],
   "source": [
    "print(Prob_table_sex_survived)\n",
    "print(Prob_table_survived)\n",
    "print(Prob_table_sex)"
   ]
  },
  {
   "cell_type": "code",
   "execution_count": 97,
   "id": "b1711eb1-daad-422b-bad3-fc3e4d1bebef",
   "metadata": {},
   "outputs": [
    {
     "name": "stdout",
     "output_type": "stream",
     "text": [
      "   Survived  Pclass      Prob\n",
      "0         0       1  0.155807\n",
      "1         0       2  0.220963\n",
      "2         0       3  0.623229\n",
      "3         1       1  0.412955\n",
      "4         1       2  0.303644\n",
      "5         1       3  0.283401\n"
     ]
    }
   ],
   "source": [
    "Frequency_table_Pclass=pd.pivot_table(train,values=\"Age\",index=[\"Survived\",\"Pclass\"],aggfunc=\"count\")\n",
    "Frequency_table_Pclass.rename(columns={\"Age\":\"Prob\"},inplace=True)\n",
    "Frequency_table_Pclass.reset_index(inplace=True)\n",
    "\n",
    "Frequency_table_Pclass.loc[Frequency_table_Pclass[\"Survived\"]==0,\"Prob\"]=Frequency_table_Pclass.loc[Frequency_table_Pclass[\"Survived\"]==0,\"Prob\"]/N_NotSurvived\n",
    "Frequency_table_Pclass.loc[Frequency_table_Pclass[\"Survived\"]==1,\"Prob\"]=Frequency_table_Pclass.loc[Frequency_table_Pclass[\"Survived\"]==1,\"Prob\"]/N_Survived\n",
    "print(Frequency_table_Pclass)"
   ]
  },
  {
   "cell_type": "code",
   "execution_count": 160,
   "id": "20f066c5-bd21-4704-bd2e-3f2c4cf0b1c2",
   "metadata": {},
   "outputs": [],
   "source": [
    "dict_posterio_results=[]\n",
    "Survived_list=[0,1]\n",
    "Sex_list=[0,1]\n",
    "Pclass_list=[1,2,3]\n",
    "\n",
    "\n",
    "for sex in Sex_list:\n",
    "    for pclass in Pclass_list:\n",
    "        for surv in Survived_list:\n",
    "            prob_sex_survived=Prob_table_sex_survived.loc[(Prob_table_sex_survived[\"Sex\"]==sex) & (Prob_table_sex_survived[\"Survived\"]==surv),\"Prob\"].values[0]\n",
    "            prob_surv=Prob_table_survived.loc[Prob_table_survived[\"Survived\"]==surv,\"Prob\"].values[0]\n",
    "            prob_sex=Prob_table_sex.loc[Prob_table_sex[\"Sex\"]==sex,\"Prob\"].values[0]\n",
    "            prob_pclass_surv=Frequency_table_Pclass.loc[(Frequency_table_Pclass[\"Survived\"]==surv) & (Frequency_table_Pclass[\"Pclass\"]==pclass),\"Prob\"].values[0]\n",
    "            prob_result=prob_sex_survived* prob_pclass_surv*prob_surv/prob_sex\n",
    "            dict_res={\"Sex\":sex,\"Pclass\":pclass,\"Survived\":surv,\"Prob\":prob_result}\n",
    "            dict_posterio_results.append(dict_res)\n",
    "dict_posterio_results_df=pd.DataFrame(dict_posterio_results)"
   ]
  },
  {
   "cell_type": "code",
   "execution_count": 161,
   "id": "05848d5f-195e-48d8-9500-4ee097b1e8c6",
   "metadata": {},
   "outputs": [],
   "source": [
    "df1=dict_posterio_results_df[dict_posterio_results_df[\"Survived\"]==0]\n",
    "df2=dict_posterio_results_df[dict_posterio_results_df[\"Survived\"]==1]\n",
    "                                                      \n",
    "df3=pd.merge(df1,df2,how=\"left\",on=[\"Sex\",\"Pclass\"],suffixes=('_surv_0', '_surv_1'))\n",
    "df3.drop(columns=[\"Survived_surv_0\",\"Survived_surv_1\"],inplace=True)"
   ]
  },
  {
   "cell_type": "code",
   "execution_count": 162,
   "id": "0caad884-f7b6-4c91-a486-50888c2bd5f1",
   "metadata": {},
   "outputs": [
    {
     "data": {
      "text/html": [
       "<div>\n",
       "<style scoped>\n",
       "    .dataframe tbody tr th:only-of-type {\n",
       "        vertical-align: middle;\n",
       "    }\n",
       "\n",
       "    .dataframe tbody tr th {\n",
       "        vertical-align: top;\n",
       "    }\n",
       "\n",
       "    .dataframe thead th {\n",
       "        text-align: right;\n",
       "    }\n",
       "</style>\n",
       "<table border=\"1\" class=\"dataframe\">\n",
       "  <thead>\n",
       "    <tr style=\"text-align: right;\">\n",
       "      <th></th>\n",
       "      <th>Sex</th>\n",
       "      <th>Pclass</th>\n",
       "      <th>Prob_surv_0</th>\n",
       "      <th>Prob_surv_1</th>\n",
       "    </tr>\n",
       "  </thead>\n",
       "  <tbody>\n",
       "    <tr>\n",
       "      <th>0</th>\n",
       "      <td>0</td>\n",
       "      <td>1</td>\n",
       "      <td>0.123815</td>\n",
       "      <td>0.084794</td>\n",
       "    </tr>\n",
       "    <tr>\n",
       "      <th>1</th>\n",
       "      <td>0</td>\n",
       "      <td>2</td>\n",
       "      <td>0.175592</td>\n",
       "      <td>0.062348</td>\n",
       "    </tr>\n",
       "    <tr>\n",
       "      <th>2</th>\n",
       "      <td>0</td>\n",
       "      <td>3</td>\n",
       "      <td>0.495260</td>\n",
       "      <td>0.058192</td>\n",
       "    </tr>\n",
       "    <tr>\n",
       "      <th>3</th>\n",
       "      <td>1</td>\n",
       "      <td>1</td>\n",
       "      <td>0.038086</td>\n",
       "      <td>0.312011</td>\n",
       "    </tr>\n",
       "    <tr>\n",
       "      <th>4</th>\n",
       "      <td>1</td>\n",
       "      <td>2</td>\n",
       "      <td>0.054013</td>\n",
       "      <td>0.229420</td>\n",
       "    </tr>\n",
       "    <tr>\n",
       "      <th>5</th>\n",
       "      <td>1</td>\n",
       "      <td>3</td>\n",
       "      <td>0.152345</td>\n",
       "      <td>0.214125</td>\n",
       "    </tr>\n",
       "  </tbody>\n",
       "</table>\n",
       "</div>"
      ],
      "text/plain": [
       "   Sex  Pclass  Prob_surv_0  Prob_surv_1\n",
       "0    0       1     0.123815     0.084794\n",
       "1    0       2     0.175592     0.062348\n",
       "2    0       3     0.495260     0.058192\n",
       "3    1       1     0.038086     0.312011\n",
       "4    1       2     0.054013     0.229420\n",
       "5    1       3     0.152345     0.214125"
      ]
     },
     "execution_count": 162,
     "metadata": {},
     "output_type": "execute_result"
    }
   ],
   "source": [
    "df3"
   ]
  },
  {
   "cell_type": "markdown",
   "id": "68b25e08-1a73-4780-a3b1-baf09ac7a5b2",
   "metadata": {},
   "source": [
    "## Compare with Scikit-learn"
   ]
  },
  {
   "cell_type": "code",
   "execution_count": 154,
   "id": "287d8e05-6980-49ec-9aae-6541a1a0c6a1",
   "metadata": {},
   "outputs": [
    {
     "name": "stdout",
     "output_type": "stream",
     "text": [
      "train score=0.78\n",
      "test score=0.7807017543859649\n"
     ]
    }
   ],
   "source": [
    "X_train=train[[\"Sex\",\"Pclass\"]].values\n",
    "y_train=train[\"Survived\"]\n",
    "\n",
    "X_test=test[[\"Sex\",\"Pclass\"]].values\n",
    "y_test=test[\"Survived\"]\n",
    "\n",
    "from sklearn.naive_bayes import BernoulliNB,MultinomialNB,CategoricalNB \n",
    "nb_2 = BernoulliNB()\n",
    "nb_MB = CategoricalNB()\n",
    "nb_2.fit(X_train, y_train)\n",
    "nb_MB.fit(X_train,y_train)\n",
    "\n",
    "\n",
    "\n",
    "print(\"train score={}\".format(nb_2.score(X_train,y_train)))\n",
    "print(\"test score={}\".format(nb_2.score(X_test,y_test)))"
   ]
  },
  {
   "cell_type": "code",
   "execution_count": 155,
   "id": "d9012ca0-771d-46e6-b71f-edca339f31d3",
   "metadata": {},
   "outputs": [
    {
     "data": {
      "text/plain": [
       "array([[ 55., 353.],\n",
       "       [170., 247.]])"
      ]
     },
     "execution_count": 155,
     "metadata": {},
     "output_type": "execute_result"
    }
   ],
   "source": [
    "nb_2.feature_count_"
   ]
  },
  {
   "cell_type": "code",
   "execution_count": 156,
   "id": "11ed00b4-2a34-4802-aeed-f1735c2ceba7",
   "metadata": {},
   "outputs": [],
   "source": [
    "X_train_test=[[0,1],[0,2],[0,3],[1,1],[1,2],[1,3]]"
   ]
  },
  {
   "cell_type": "code",
   "execution_count": 157,
   "id": "6c4bbda2-2acb-47f0-a411-c786a567d5f2",
   "metadata": {},
   "outputs": [
    {
     "data": {
      "text/plain": [
       "array([[0.79369651, 0.20630349],\n",
       "       [0.79369651, 0.20630349],\n",
       "       [0.79369651, 0.20630349],\n",
       "       [0.24736903, 0.75263097],\n",
       "       [0.24736903, 0.75263097],\n",
       "       [0.24736903, 0.75263097]])"
      ]
     },
     "execution_count": 157,
     "metadata": {},
     "output_type": "execute_result"
    }
   ],
   "source": [
    "nb_2.predict_proba(X_train_test)"
   ]
  },
  {
   "cell_type": "code",
   "execution_count": 159,
   "id": "60ce222b-b413-4234-bd02-0b504de798b6",
   "metadata": {},
   "outputs": [
    {
     "data": {
      "text/plain": [
       "array([[0.59495544, 0.40504456],\n",
       "       [0.73741602, 0.26258398],\n",
       "       [0.89372324, 0.10627676],\n",
       "       [0.11149533, 0.88850467],\n",
       "       [0.19349392, 0.80650608],\n",
       "       [0.41807103, 0.58192897]])"
      ]
     },
     "execution_count": 159,
     "metadata": {},
     "output_type": "execute_result"
    }
   ],
   "source": [
    "nb_MB.predict_proba(X_train_test)"
   ]
  },
  {
   "cell_type": "code",
   "execution_count": null,
   "id": "bac06c67-c64b-463d-a344-c3b8269ba462",
   "metadata": {},
   "outputs": [],
   "source": []
  }
 ],
 "metadata": {
  "kernelspec": {
   "display_name": "Python 3 (ipykernel)",
   "language": "python",
   "name": "python3"
  },
  "language_info": {
   "codemirror_mode": {
    "name": "ipython",
    "version": 3
   },
   "file_extension": ".py",
   "mimetype": "text/x-python",
   "name": "python",
   "nbconvert_exporter": "python",
   "pygments_lexer": "ipython3",
   "version": "3.9.13"
  }
 },
 "nbformat": 4,
 "nbformat_minor": 5
}
