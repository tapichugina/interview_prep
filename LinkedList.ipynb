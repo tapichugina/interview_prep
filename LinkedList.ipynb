{
 "cells": [
  {
   "cell_type": "code",
   "execution_count": null,
   "id": "164f1bad-29f5-480e-b427-a23f99c19fb1",
   "metadata": {},
   "outputs": [],
   "source": [
    "class Node():\n",
    "    def __init__(self,data,next_node=None):\n",
    "        self.data=data\n",
    "        self.next_node=next_node\n",
    "    def print_node(self):\n",
    "        print(\"Node data={}\".format(self.data))\n",
    "\n",
    "class LinkedList():\n",
    "    def __init__(self):\n",
    "        self.head=None\n",
    "    def is_empty(self):\n",
    "        \"\"\" check if list is empty \"\"\"\n",
    "        return self.head==None\n",
    "    def size(self):\n",
    "        \"\"\"\n",
    "        return number of nodes in the list O(n)\n",
    "        \"\"\"\n",
    "        counter=0\n",
    "        current_node=self.head\n",
    "        while current_node:\n",
    "            counter+=1\n",
    "            current_node=current_node.next_node\n",
    "        return counter\n",
    "    \n",
    "    def print_linked_list(self):\n",
    "        current=self.head\n",
    "        while current:\n",
    "            if current==self.head:\n",
    "                print('Head {}'.format(current.data))\n",
    "            elif current.next_node is None:\n",
    "                print('Tail {}'.format(current.data))\n",
    "            else:\n",
    "                print(current.data)\n",
    "                \n",
    "            current=current.next_node\n",
    "            \n",
    "        \n",
    "    \n",
    "    def add_node(self,data):\n",
    "        \"\"\"\n",
    "        add new node at the Head of the list\n",
    "        \"\"\"\n",
    "        new_node=Node(data,next_node=self.head)\n",
    "        self.head=new_node\n",
    "        \n",
    "    def search(self,key):\n",
    "        \"\"\"\n",
    "        search the first node if node contain key else return None\n",
    "        O(n)\n",
    "        \"\"\"\n",
    "        current=self.head\n",
    "        \n",
    "        while current:\n",
    "            if current.data==key:\n",
    "                return current\n",
    "            else:\n",
    "                current=current.next_node\n",
    "        return None\n",
    "    \n",
    "    def insert(self,data,index):\n",
    "        \"\"\"\n",
    "        insert element at curtain index\n",
    "        \"\"\"\n",
    "        if index==0:\n",
    "            self.add(data)\n",
    "        if index>0:\n",
    "            new=Node(data)\n",
    "            \n",
    "            current=self.head()\n",
    "            while position>1:\n",
    "                current=node.next_node\n",
    "                position-=1\n",
    "            \n",
    "        prev=current \n",
    "        next=current.next_node\n",
    "        prev.next_node=new\n",
    "        new.next_node=next_node\n",
    "    \n",
    "    def remove(self,key):\n",
    "        \n",
    "        current=self.head\n",
    "        prev=None\n",
    "        found=False\n",
    "        \n",
    "        while current and not found:\n",
    "            if  current==self.head and current.data==key: \n",
    "                self.head=current.next_node\n",
    "                found=True\n",
    "            elif current.data==key:\n",
    "                prev.next_node=current.next_node\n",
    "                fount=True\n",
    "            else:\n",
    "                prev=current\n",
    "                current=current.next_node\n",
    "                \n",
    "        return found\n",
    "        \n",
    "\n",
    "                \n",
    "    "
   ]
  },
  {
   "cell_type": "code",
   "execution_count": 124,
   "id": "9ec6262a-2f2a-468f-8ad7-78eabf16f2b6",
   "metadata": {},
   "outputs": [],
   "source": [
    "LL=LinkedList()"
   ]
  },
  {
   "cell_type": "code",
   "execution_count": 125,
   "id": "ba7acbb4-f3f4-4f36-9fad-d93cdd007c7f",
   "metadata": {},
   "outputs": [],
   "source": [
    "LL.add_node(1)\n",
    "LL.add_node(2)\n",
    "LL.add_node(3)\n",
    "LL.add_node(4)\n"
   ]
  },
  {
   "cell_type": "code",
   "execution_count": 126,
   "id": "1fea680c-4f20-4e81-bfd6-f518427c66b1",
   "metadata": {},
   "outputs": [
    {
     "name": "stdout",
     "output_type": "stream",
     "text": [
      "Head 4\n",
      "3\n",
      "2\n",
      "Tail 1\n"
     ]
    }
   ],
   "source": [
    "LL.print_linked_list()"
   ]
  },
  {
   "cell_type": "code",
   "execution_count": 128,
   "id": "f5776410-d61b-45d5-97e2-fc3052d9f364",
   "metadata": {},
   "outputs": [
    {
     "name": "stdout",
     "output_type": "stream",
     "text": [
      "<__main__.Node object at 0x0000016EE61D5F10>\n"
     ]
    }
   ],
   "source": [
    "print(LL.search(4))"
   ]
  },
  {
   "cell_type": "code",
   "execution_count": null,
   "id": "91b19cfb-00ce-47b7-9e8a-e4a470776c8e",
   "metadata": {},
   "outputs": [],
   "source": []
  }
 ],
 "metadata": {
  "kernelspec": {
   "display_name": "Python 3 (ipykernel)",
   "language": "python",
   "name": "python3"
  },
  "language_info": {
   "codemirror_mode": {
    "name": "ipython",
    "version": 3
   },
   "file_extension": ".py",
   "mimetype": "text/x-python",
   "name": "python",
   "nbconvert_exporter": "python",
   "pygments_lexer": "ipython3",
   "version": "3.9.13"
  }
 },
 "nbformat": 4,
 "nbformat_minor": 5
}
