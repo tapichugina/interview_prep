{
 "cells": [
  {
   "cell_type": "code",
   "execution_count": 1,
   "id": "56524bf0-b008-4c91-a903-6b57e4451134",
   "metadata": {},
   "outputs": [],
   "source": [
    "import math\n",
    "import random\n",
    "import sys"
   ]
  },
  {
   "cell_type": "code",
   "execution_count": 69,
   "id": "bf775173-d2dd-4030-a404-2eb3bf741b1a",
   "metadata": {},
   "outputs": [],
   "source": [
    "# test cases\n",
    "test=[0,0,10,2]\n",
    "#test=[1,1,1,1]"
   ]
  },
  {
   "cell_type": "markdown",
   "id": "ef6a1f41-85e4-4d7e-9bea-2a5fdb473bb0",
   "metadata": {},
   "source": [
    "### Selection sort\n",
    "https://www.youtube.com/watch?v=GUDLRan2DWM&list=PL2_aWCzGMAwKedT2KfDMB9YA5DgASZb3U&index=2&ab_channel=mycodeschool <br>\n",
    "time complexity O(n^2) <br>\n",
    "space complexity O(1)  <br>"
   ]
  },
  {
   "cell_type": "code",
   "execution_count": 70,
   "id": "34be030d-8d47-4d5f-8e3a-a31c05e92acc",
   "metadata": {},
   "outputs": [],
   "source": [
    "def selection_sort(arr):\n",
    "    for i in range(len(arr)):\n",
    "        min_ind=i\n",
    "        for k in range(i,len(arr)):\n",
    "            if arr[k]<arr[min_ind]:\n",
    "                min_ind=k\n",
    "        # replace i\n",
    "        temp=arr[i]\n",
    "        arr[i]=arr[min_ind]\n",
    "        arr[min_ind]=temp\n",
    "    return arr\n",
    "        "
   ]
  },
  {
   "cell_type": "code",
   "execution_count": 71,
   "id": "fb6b0332-6a44-4025-a9bc-06caa65850f5",
   "metadata": {},
   "outputs": [
    {
     "data": {
      "text/plain": [
       "[0, 0, 2, 10]"
      ]
     },
     "execution_count": 71,
     "metadata": {},
     "output_type": "execute_result"
    }
   ],
   "source": [
    "selection_sort(test)"
   ]
  },
  {
   "cell_type": "markdown",
   "id": "4f180edf-79e9-4386-b470-0f8913c130b6",
   "metadata": {},
   "source": [
    "### Insertion sort"
   ]
  },
  {
   "cell_type": "code",
   "execution_count": 9,
   "id": "b9f4b0a5-80d5-4f79-b042-8fd976b3e3b7",
   "metadata": {},
   "outputs": [],
   "source": [
    "# space complexity O(n^2)\n",
    "\n",
    "def insertion_sort(arr):\n",
    "    print(arr)\n",
    "    for i in range(1,len(arr)):\n",
    "        key=arr[i]\n",
    "        j=i-1\n",
    "        while j>=0 and arr[j]>key:\n",
    "                arr[j+1]=arr[j]\n",
    "                j-=1\n",
    "        arr[j+1]=key       \n",
    "    print(arr)\n",
    "    return arr"
   ]
  },
  {
   "cell_type": "code",
   "execution_count": 10,
   "id": "089ffcc4-2591-409d-88f9-96c365f0c022",
   "metadata": {},
   "outputs": [
    {
     "name": "stdout",
     "output_type": "stream",
     "text": [
      "[0, 0, 10, 2]\n",
      "[0, 0, 2, 10]\n"
     ]
    },
    {
     "data": {
      "text/plain": [
       "[0, 0, 2, 10]"
      ]
     },
     "execution_count": 10,
     "metadata": {},
     "output_type": "execute_result"
    }
   ],
   "source": [
    "insertion_sort(test)"
   ]
  },
  {
   "cell_type": "markdown",
   "id": "1dd577f2-66b5-46b4-bf9c-ea0305ec965f",
   "metadata": {},
   "source": [
    "### Bubble sort\n",
    "description https://www.youtube.com/watch?v=Jdtq5uKz-w4&ab_channel=mycodeschool <br>\n",
    "time complexity O(n^2) <br>\n",
    "space complexity O(1) <br>"
   ]
  },
  {
   "cell_type": "code",
   "execution_count": 29,
   "id": "220b44f4-123f-4f0f-89b8-76ba68fd1929",
   "metadata": {},
   "outputs": [],
   "source": [
    "test=[3,4,6,2]\n",
    "test=[1,2,3,4,5]"
   ]
  },
  {
   "cell_type": "code",
   "execution_count": 30,
   "id": "450e8cb2-a1e0-4f94-8057-4fa0eb92a675",
   "metadata": {},
   "outputs": [],
   "source": [
    "def bubble_sort(arr):\n",
    "    for i in range(len(arr)-1):\n",
    "        flag=0 \n",
    "        for j in range(len(arr)-i-1): # acconted that the last element already sorted\n",
    "            if arr[j]>arr[j+1]:\n",
    "                temp=arr[j]\n",
    "                arr[j]=arr[j+1]\n",
    "                arr[j+1]=temp\n",
    "                flag=1\n",
    "        if flag==0:\n",
    "            return arr # if array is already sorted stop\n",
    "    \n",
    "    return arr"
   ]
  },
  {
   "cell_type": "code",
   "execution_count": 31,
   "id": "543e90b6-5c2c-48bb-beda-d2e246271489",
   "metadata": {},
   "outputs": [
    {
     "data": {
      "text/plain": [
       "[1, 2, 3, 4, 5]"
      ]
     },
     "execution_count": 31,
     "metadata": {},
     "output_type": "execute_result"
    }
   ],
   "source": [
    "bubble_sort(test)"
   ]
  },
  {
   "cell_type": "markdown",
   "id": "3e06a54b-d327-4b6d-8125-d8043278c721",
   "metadata": {},
   "source": [
    "### Merge sort"
   ]
  },
  {
   "cell_type": "code",
   "execution_count": 27,
   "id": "11f04f10-9a2d-4bc3-a154-3e8f57f8e2c7",
   "metadata": {},
   "outputs": [],
   "source": [
    "def merge_sort(arr):\n",
    "    n=len(arr)\n",
    "    if n<2: return arr\n",
    "    else:\n",
    "        mid=n//2\n",
    "        left_arr=arr[:mid]\n",
    "        right_arr=arr[mid:]\n",
    "        print(mid,left_arr,right_arr)\n",
    "    \n",
    "    merge_sort(left_arr)\n",
    "    merge_sort(right_arr)\n",
    "    merge(left_arr,right_arr,arr)\n",
    "        \n",
    "    return arr"
   ]
  },
  {
   "cell_type": "code",
   "execution_count": 28,
   "id": "0d7f693e-461f-4513-9a97-1b732943e9a7",
   "metadata": {},
   "outputs": [],
   "source": [
    "def merge(Left,Right,arr):\n",
    "    \n",
    "    print('merge',Left,Right,arr)\n",
    "    \n",
    "    left_ind=0\n",
    "    right_ind=0\n",
    "    ind=0\n",
    "    \n",
    "    while(left_ind<len(Left) and right_ind<len(Right)):\n",
    "        if Left[left_ind]<=Right[right_ind]:\n",
    "            arr[ind]=Left[left_ind]\n",
    "            left_ind=left_ind+1\n",
    "        else:\n",
    "            arr[ind]=Right[right_ind]\n",
    "            right_ind=right_ind+1\n",
    "        ind=ind+1\n",
    "    # if some parts left after previous joint\n",
    "    while(left_ind<len(Left)):\n",
    "        arr[ind]=Left[left_ind]\n",
    "        ind=ind+1\n",
    "        left_ind=left_ind+1\n",
    "          \n",
    "    while(right_ind<len(Right)):\n",
    "        arr[ind]=Right[right_ind]\n",
    "        ind=ind+1\n",
    "        right_ind=right_ind+1\n",
    "\n",
    "    return arr        \n",
    "    "
   ]
  },
  {
   "cell_type": "code",
   "execution_count": 29,
   "id": "7e8fb843-5673-4804-bf60-04690e229069",
   "metadata": {},
   "outputs": [
    {
     "name": "stdout",
     "output_type": "stream",
     "text": [
      "1 [7] [9, 4]\n",
      "1 [9] [4]\n",
      "merge [9] [4] [9, 4]\n",
      "merge [7] [4, 9] [7, 9, 4]\n"
     ]
    },
    {
     "data": {
      "text/plain": [
       "[4, 7, 9]"
      ]
     },
     "execution_count": 29,
     "metadata": {},
     "output_type": "execute_result"
    }
   ],
   "source": [
    "a=[7,9,4]\n",
    "b=[1,4,4,9]\n",
    "c=[1,1,1,1,1,1,1]\n",
    "\n",
    "merge_sort(a)"
   ]
  },
  {
   "cell_type": "code",
   "execution_count": null,
   "id": "37403623-f246-4b86-89ff-d299472bbceb",
   "metadata": {},
   "outputs": [],
   "source": []
  }
 ],
 "metadata": {
  "kernelspec": {
   "display_name": "Python 3 (ipykernel)",
   "language": "python",
   "name": "python3"
  },
  "language_info": {
   "codemirror_mode": {
    "name": "ipython",
    "version": 3
   },
   "file_extension": ".py",
   "mimetype": "text/x-python",
   "name": "python",
   "nbconvert_exporter": "python",
   "pygments_lexer": "ipython3",
   "version": "3.9.13"
  }
 },
 "nbformat": 4,
 "nbformat_minor": 5
}
