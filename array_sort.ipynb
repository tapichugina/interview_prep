{
 "cells": [
  {
   "cell_type": "code",
   "execution_count": 1,
   "id": "56524bf0-b008-4c91-a903-6b57e4451134",
   "metadata": {},
   "outputs": [],
   "source": [
    "import math\n",
    "import random\n",
    "import sys"
   ]
  },
  {
   "cell_type": "code",
   "execution_count": 24,
   "id": "bf775173-d2dd-4030-a404-2eb3bf741b1a",
   "metadata": {},
   "outputs": [],
   "source": [
    "# test cases\n",
    "test=[0,0,10,2]"
   ]
  },
  {
   "cell_type": "code",
   "execution_count": 27,
   "id": "b9f4b0a5-80d5-4f79-b042-8fd976b3e3b7",
   "metadata": {},
   "outputs": [],
   "source": [
    "# space complexity O(n^2)\n",
    "\n",
    "def insertion_sort(arr):\n",
    "    print(arr)\n",
    "    for i in range(1,len(arr)):\n",
    "        key=arr[i]\n",
    "        j=i-1\n",
    "        while j>=0 and arr[j]>key:\n",
    "                arr[j+1]=arr[j]\n",
    "                j-=1\n",
    "        arr[j+1]=key       \n",
    "    print(arr)\n",
    "    return arr"
   ]
  },
  {
   "cell_type": "code",
   "execution_count": 28,
   "id": "089ffcc4-2591-409d-88f9-96c365f0c022",
   "metadata": {},
   "outputs": [
    {
     "name": "stdout",
     "output_type": "stream",
     "text": [
      "[0, 0, 2, 10]\n",
      "[0, 0, 2, 10]\n"
     ]
    },
    {
     "data": {
      "text/plain": [
       "[0, 0, 2, 10]"
      ]
     },
     "execution_count": 28,
     "metadata": {},
     "output_type": "execute_result"
    }
   ],
   "source": [
    "insertion_sort(test)"
   ]
  },
  {
   "cell_type": "code",
   "execution_count": null,
   "id": "3df05fcf-2c6f-4fbf-9637-526f38906985",
   "metadata": {},
   "outputs": [],
   "source": []
  }
 ],
 "metadata": {
  "kernelspec": {
   "display_name": "Python 3 (ipykernel)",
   "language": "python",
   "name": "python3"
  },
  "language_info": {
   "codemirror_mode": {
    "name": "ipython",
    "version": 3
   },
   "file_extension": ".py",
   "mimetype": "text/x-python",
   "name": "python",
   "nbconvert_exporter": "python",
   "pygments_lexer": "ipython3",
   "version": "3.9.13"
  }
 },
 "nbformat": 4,
 "nbformat_minor": 5
}
